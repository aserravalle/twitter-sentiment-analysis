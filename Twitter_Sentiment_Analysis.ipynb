{
  "nbformat": 4,
  "nbformat_minor": 0,
  "metadata": {
    "colab": {
      "name": "Twitter Sentiment Analysis.ipynb",
      "provenance": [],
      "collapsed_sections": [],
      "include_colab_link": true
    },
    "kernelspec": {
      "name": "python3",
      "display_name": "Python 3"
    }
  },
  "cells": [
    {
      "cell_type": "markdown",
      "metadata": {
        "id": "view-in-github",
        "colab_type": "text"
      },
      "source": [
        "<a href=\"https://colab.research.google.com/github/aserravalle/twitter-setniment-analysis/blob/master/Twitter_Sentiment_Analysis.ipynb\" target=\"_parent\"><img src=\"https://colab.research.google.com/assets/colab-badge.svg\" alt=\"Open In Colab\"/></a>"
      ]
    },
    {
      "cell_type": "code",
      "metadata": {
        "id": "4JVNi8Fo7N7b",
        "colab_type": "code",
        "outputId": "6dbf7d1b-3160-4cf3-91f7-12a0ff8bf9a7",
        "colab": {
          "base_uri": "https://localhost:8080/",
          "height": 730
        }
      },
      "source": [
        "import tweepy\n",
        "from textblob import TextBlob\n",
        "import pandas as pd\n",
        "import numpy as np\n",
        "\n",
        "#Developer key for accessing the API\n",
        "consumer_key = 'xxx'\n",
        "consumer_secret = 'xxx'\n",
        "\n",
        "#Generated user key for accessing the API\n",
        "access_token = 'xxx-xxx'\n",
        "access_token_secret = 'xxx'\n",
        "\n",
        "#Log in via code\n",
        "auth = tweepy.OAuthHandler(consumer_key,consumer_secret)\n",
        "auth.set_access_token(access_token,access_token_secret)\n",
        "\n",
        "#Create the API object\n",
        "api = tweepy.API(auth)\n",
        "\n",
        "public_tweets = api.search('Trump') #Collect tweets that contain 'Trump'\n",
        "for tweet in public_tweets:\n",
        "  print(tweet.text)\n",
        "  analysis = TextBlob(tweet.text)\n",
        "  #Break each tweet up into its constituent words\n",
        "  polarity, subjectivity = analysis.sentiment\n",
        "  #store its subjectivity and positivity\n",
        "  print(analysis.sentiment) \n"
      ],
      "execution_count": 0,
      "outputs": [
        {
          "output_type": "stream",
          "text": [
            "RT @PrisonPlanet: The purple haired U.S. soccer woman is once again refusing to visit the White House.\n",
            "\n",
            "Maybe Trump should invite the under…\n",
            "Sentiment(polarity=0.0, subjectivity=0.0)\n",
            "@Telegraph He resigned because he became unable to continue with his role &amp; his job since Trump knew!he uninvited h… https://t.co/HDtCk1kwad\n",
            "Sentiment(polarity=-0.5, subjectivity=0.5)\n",
            "@JerryDunleavy @EWErickson All True. And Donald Trump was raping 13 year old girls with Jeffrey Epstein in 1994.\n",
            "Sentiment(polarity=0.22499999999999998, subjectivity=0.42500000000000004)\n",
            "We've come a long way. For those who still think Mueller or Epstein is going to bring down trumP, I bow to your opt… https://t.co/0iWeLSs55N\n",
            "Sentiment(polarity=-0.1027777777777778, subjectivity=0.34444444444444444)\n",
            "RT @MarquardtA: DC mayor tells Trump she wants to be reimbursed for the July 4 events that \"contributed to dangerously depleting a city fun…\n",
            "Sentiment(polarity=-0.19999999999999998, subjectivity=0.5)\n",
            "RT @CREWcrew: Donald Trump’s flagship Scottish hotel and golf course has received another five-figure windfall from his own government to c…\n",
            "Sentiment(polarity=0.6, subjectivity=1.0)\n",
            "RT @Florida_Sun_: I LOVE my President!\n",
            "\n",
            "He's the greatest POTUS America had in DECADES!\n",
            "\n",
            "LIKE and RETWEET if you are going to vote Trump in…\n",
            "Sentiment(polarity=0.8125, subjectivity=0.8)\n",
            "RT @TalbertSwan: 22 women accused Trump of rape.\n",
            "\n",
            "and..\n",
            "\n",
            "his boy Robert Kraft was charged with soliciting prostitution..\n",
            "\n",
            "his boy Jeffrey E…\n",
            "Sentiment(polarity=0.0, subjectivity=0.0)\n",
            "RT @mrjamesob: If your self-serving lies have led a country to the brink of catastrophe, you either admit the lies or seek to silence the p…\n",
            "Sentiment(polarity=0.0, subjectivity=0.0)\n",
            "Since HELP has given Kim Jung Il an honorary doctorate, when are they giving one to Trump as well? 🤔 #DrTrump @HELPUni\n",
            "Sentiment(polarity=0.0, subjectivity=0.0)\n",
            "RT @natnewswatch: Trump invites right-wing extremists to White House 'social media summit'\n",
            "  https://t.co/B3e7aTQrrS\n",
            "Sentiment(polarity=0.016666666666666666, subjectivity=0.03333333333333333)\n",
            "@engadget @NAACP @ACLU \n",
            "after trump was told he can't block people it will take some mincing to convince a judge th… https://t.co/GyAqKoyM22\n",
            "Sentiment(polarity=0.0, subjectivity=0.0)\n",
            "@MargauxR15 @realDonaldTrump I'll never understand Trump supporters.  Trump campaign promise \"I'll be too busy to p… https://t.co/TFyErCNvjx\n",
            "Sentiment(polarity=0.1, subjectivity=0.3)\n"
          ],
          "name": "stdout"
        }
      ]
    },
    {
      "cell_type": "markdown",
      "metadata": {
        "id": "I4m0-wH2G9fp",
        "colab_type": "text"
      },
      "source": [
        "Today I'm going to teach you some less conventional applications of Python. Not the neural networks and data analysis that you typically find in these sorts of workshops. I feel like those useful things are overrated, so I'm going to teach you something truly shit. Something you're never going to use in data analytics, but you're going to learn how to do it anyway. I will do my best to make it interesting and engaging, and because I'm so good at that you will probably remember this. You'll sit your next exam, completely forget how to do all the important things like regression and classification. But you'll know how to use python to figure out how Japanese people feel about McDonalds.\n",
        "\n",
        "So with that introduction, let's begin! I'm going to get you all to log into google Colab - a cloud based python notebook. You can't edit code collaboratively like you can edit a word doc on Google Drive, but you can access it anywhere you can access google drive, and share it the same way. The only annoying thing about it is the way you upload files to it - which I'll leave for you to figure out in your own time. Today, everything we need comes from the internet.\n",
        "\n",
        "I'll introduce the features to you one by one. The first you need is TextBlob, which uses a machine learning library to analyse text. What this first line of code means is that you will enter the `textblob` library, which should be readily available in your instance of Google Colab. This means you can just use `from/import`, instead of having to use Python Installation Packages like you do on your home terminal. PIP install isn't actually that hard in theory, but you can have issues with your operating system and python version that I don't want to deal with because I'd like you all to follow along.\n",
        "\n",
        "You have to import `TextBlob`, proper noun, which is a function. You take the input of some text and it outputs two features in a `list`. The first is polarity - which ranges from -1 (very negative) to +1 (very positive). The second is subjectivity, which ranges from 0 (objective) to 1 (subjective). "
      ]
    },
    {
      "cell_type": "code",
      "metadata": {
        "id": "9tgsek0kFjz-",
        "colab_type": "code",
        "outputId": "647b87ef-3437-4b6f-ff5c-caed2772cb0d",
        "colab": {
          "base_uri": "https://localhost:8080/",
          "height": 51
        }
      },
      "source": [
        "from textblob import TextBlob\n",
        "\n",
        "analysis = TextBlob('Look at the stars, look how they shine for you')\n",
        "polarity, subjectivity = analysis.sentiment\n",
        "print(\"Polarity:\",polarity,\"\\nSubjectivity:\",subjectivity)"
      ],
      "execution_count": 0,
      "outputs": [
        {
          "output_type": "stream",
          "text": [
            "Polarity: 0.0 \n",
            "Subjectivity: 0.0\n"
          ],
          "name": "stdout"
        }
      ]
    },
    {
      "cell_type": "markdown",
      "metadata": {
        "id": "7pkQH3JmJzox",
        "colab_type": "text"
      },
      "source": [
        "Analysing the lyrics one by one takes time, so we have to consider a way to make python store through some values for our analysis later. We'll do this in a `dictionary`, since that's the easiest one to turn into a table, or dataframe, later."
      ]
    },
    {
      "cell_type": "code",
      "metadata": {
        "id": "euuEhhM67s_J",
        "colab_type": "code",
        "outputId": "e8708fce-853a-4dfe-886b-45b622fc5bae",
        "colab": {
          "base_uri": "https://localhost:8080/",
          "height": 34
        }
      },
      "source": [
        "df = {'Polarity':[1,2,3],'Subjectivity':[]}\n",
        "\n",
        "df['Polarity'].append(4)\n",
        "\n",
        "\n",
        "df['Polarity']"
      ],
      "execution_count": 0,
      "outputs": [
        {
          "output_type": "execute_result",
          "data": {
            "text/plain": [
              "[1, 2, 3, 4, 5, 6, 7, 8, 9]"
            ]
          },
          "metadata": {
            "tags": []
          },
          "execution_count": 98
        }
      ]
    },
    {
      "cell_type": "markdown",
      "metadata": {
        "id": "LKJCbsq1Lqmf",
        "colab_type": "text"
      },
      "source": [
        "The other ingredient we need is loops to automate the collection of that data. I'm assuming you're all familiar with for loops in some type of language. This is what they look like on python"
      ]
    },
    {
      "cell_type": "code",
      "metadata": {
        "id": "9FKlxkFNLqZH",
        "colab_type": "code",
        "colab": {}
      },
      "source": [
        "df = {'Polarity':[1,2,3],'Subjectivity':[]}\n",
        "\n",
        "for i in range(4,10):\n",
        "  df['Polarity'].append(i)  \n",
        "\n",
        "df['Polarity']"
      ],
      "execution_count": 0,
      "outputs": []
    },
    {
      "cell_type": "markdown",
      "metadata": {
        "id": "ccn3R6lVKWEB",
        "colab_type": "text"
      },
      "source": [
        "Now we understand the way dictionaries store values, we can create a list of song lyrics we want to analyse, and a loop to analyse them."
      ]
    },
    {
      "cell_type": "code",
      "metadata": {
        "id": "a1PAHrEj-em4",
        "colab_type": "code",
        "outputId": "4d79264a-42cc-46b2-f684-4a443389da87",
        "colab": {
          "base_uri": "https://localhost:8080/",
          "height": 51
        }
      },
      "source": [
        "df = {'Polarity':[],'Subjectivity':[]}\n",
        "\n",
        "Lyrics = ['Look at the stars, look how they shine for you',\n",
        "         'King Kunta errybody tryna cut the legs off him',\n",
        "         \"Cause I don't care when I'm with my baby, yeah\",\n",
        "         \"I'm gonna take my horse to the old town road\",\n",
        "         \"I like big butts and I can not lie\"]\n",
        "\n",
        "for line in Lyrics:\n",
        "  analysis = TextBlob(line)\n",
        "  polarity, subjectivity = analysis.sentiment\n",
        "  df['Polarity'].append(polarity)\n",
        "  df['Subjectivity'].append(subjectivity)\n",
        "df"
      ],
      "execution_count": 0,
      "outputs": [
        {
          "output_type": "execute_result",
          "data": {
            "text/plain": [
              "{'Polarity': [0.0, 0.0, 0.0, 0.1, 0.0],\n",
              " 'Subjectivity': [0.0, 0.0, 0.0, 0.2, 0.1]}"
            ]
          },
          "metadata": {
            "tags": []
          },
          "execution_count": 100
        }
      ]
    },
    {
      "cell_type": "markdown",
      "metadata": {
        "id": "shXQJrTkKnq-",
        "colab_type": "text"
      },
      "source": [
        "But it's going to take us way to long to analyse any significant amount of emotion through typing it by hand. If only there were some way to access a library full of people's poorly thought out ideas. Do you guys know anywhere people go to share their unsolicited opinions? \n",
        "\n",
        "The internet! \n",
        "\n",
        "Thankfully there's a way to access the entire spectrum of people's tweets with a couple of simple functions. And twitter has built out a suite of developer tools that communicate with their APIs, and you and I can access it. You just need to have a twitter developer account which you can set up quickly and for free. In the interest of keeping everyone together, I've posted my own developer details on the Facebook page for this event"
      ]
    },
    {
      "cell_type": "code",
      "metadata": {
        "id": "EHKYupfyGmuX",
        "colab_type": "code",
        "colab": {}
      },
      "source": [
        "import tweepy\n",
        "#Developer key for accessing the API\n",
        "consumer_key = 'xxx'\n",
        "consumer_secret = 'xxx'\n",
        "\n",
        "#Generated user key for accessing the API\n",
        "access_token = 'xxx-xxx'\n",
        "access_token_secret = 'xxx'\n",
        "\n",
        "#Log in via code\n",
        "auth = tweepy.OAuthHandler(consumer_key,consumer_secret)\n",
        "auth.set_access_token(access_token,access_token_secret)\n",
        "\n",
        "#Create the API object\n",
        "api = tweepy.API(auth)"
      ],
      "execution_count": 0,
      "outputs": []
    },
    {
      "cell_type": "markdown",
      "metadata": {
        "id": "bIdFTHhoOJMN",
        "colab_type": "text"
      },
      "source": [
        "Now we've got access to the twitter API, we can download info about their users and tweets."
      ]
    },
    {
      "cell_type": "code",
      "metadata": {
        "id": "uucuuXerOnNS",
        "colab_type": "code",
        "outputId": "44003145-e4d7-4f5c-d85a-ddd0963745be",
        "colab": {
          "base_uri": "https://localhost:8080/",
          "height": 54
        }
      },
      "source": [
        "user = api.search_users(\"@nytimesworld\")\n",
        "for tweet in user:\n",
        "  #print(tweet)\n",
        "  print(tweet.status.text)\n",
        "  break\n"
      ],
      "execution_count": 0,
      "outputs": [
        {
          "output_type": "stream",
          "text": [
            "It blasted a hole in an asteroid. On Thursday, Japan's Hayabusa2 spacecraft landed on that rock and tried to grab a… https://t.co/AL9mTM7qMM\n"
          ],
          "name": "stdout"
        }
      ]
    },
    {
      "cell_type": "code",
      "metadata": {
        "id": "qM0xwS9-F-Pr",
        "colab_type": "code",
        "outputId": "c0cf8cd1-8ae4-4a4d-9f3a-35e127cb1897",
        "colab": {
          "base_uri": "https://localhost:8080/",
          "height": 470
        }
      },
      "source": [
        "public_tweets = api.search('McDonalds') #Collect tweets that contain 'McDonalds'\n",
        "for tweet in public_tweets:\n",
        "  print(tweet) #Heaps of crap\n",
        "  #print(tweet.text) #Tell them about attributes like 'text'"
      ],
      "execution_count": 0,
      "outputs": [
        {
          "output_type": "stream",
          "text": [
            "RT @McDonaldsJapan: ✨教えて！あなたのフィズ経験 vol.5 ✨\n",
            "いままで何回フィズしましたか？😘ハッシュタグ #私のフィズ経験 をつけてコメントしてね❤️\n",
            "抽選で #ひと夏のマックカード が当たるよ😆✨発売記念のクーポンももれなくプレゼント🎁詳しくは ht…\n",
            "RT @MrBeastYT: @MorgzHudson 24 Hours In a jungle\n",
            "\n",
            "Life size paper airplane \n",
            "\n",
            "Live underwater for a week\n",
            "\n",
            "Eat McDonalds on every continent (…\n",
            "Hello from London! 💤 We are on the road again, sight-seeing this morning. Thank you to the parent who informed us t… https://t.co/QAFz9J7DJR\n",
            "Did you know the farthest away from Mcdonald's in mainland USA is 109 miles, and is nicknamed the \"McFarthest Spot\"#McDonalds #FunFact #USA\n",
            "Tamar Braxton, Luke James &amp; More Light Up McDonald’s Black &amp; Positively Golden Experience At EssenceFest https://t.co/yzjzcNKG3f\n",
            "RT @McDonaldsJapan: ＼大人も子どもも嬉しい！／ #チキンマックナゲット 期間限定 #15ピース390円 記念✨夏休みの思い出も、宿題も詰め込める #ナゲやすみの思い出ノート 、ナ(7)ツ(2)だけに抽選で72名にアゲるよ🎯😆このアカウントをフォロー＆RTで参…\n",
            "And I just took a deep breath and told him “ sir let’s just go to the McDonalds and exchange info there”  so we go… https://t.co/nsO6zStwMy\n",
            "RT @McDonaldsJapan: ✨教えて！あなたのフィズ経験 vol.5 ✨\n",
            "いままで何回フィズしましたか？😘ハッシュタグ #私のフィズ経験 をつけてコメントしてね❤️\n",
            "抽選で #ひと夏のマックカード が当たるよ😆✨発売記念のクーポンももれなくプレゼント🎁詳しくは ht…\n",
            "RT @sheslulu: Make @McDonalds great again 😞 https://t.co/nkbq8LV2Bs\n",
            "A memory that you don’t want to forget? — My father taking us to climb on tractors after a saturday run to McDonalds https://t.co/9siVelZ4SZ\n",
            "khAZIALYN ZYREL THIS IS A MCDONALDS DRIVE THROUGH 🤡🤡 https://t.co/UkcXp1brkn\n",
            "RT @Got7infiniteJJP: Yes this is Mcdonalds we have thigh part available https://t.co/CUga1Cj1NP\n",
            "RT @SinAzucarOrg: “McDonald’s también veta al azúcar en la restauración: eliminan la Fanta y el Aquarius normal de su carta”\n",
            "\n",
            "https://t.co/…\n"
          ],
          "name": "stdout"
        }
      ]
    },
    {
      "cell_type": "code",
      "metadata": {
        "id": "Jw0fhkD8_6_P",
        "colab_type": "code",
        "outputId": "10f22f00-b952-49fb-80de-b046652002ee",
        "colab": {
          "base_uri": "https://localhost:8080/",
          "height": 968
        }
      },
      "source": [
        "df = {'Politician': [],'Polarity':[],'Subjectivity':[]}\n",
        "\n",
        "Pols = ['Obama', 'Trump', 'Clinton', 'Chairman Mao', 'scomo', 'Turnbull', 'Shorten', 'Putin']\n",
        "\n",
        "for politician in Pols:\n",
        "  public_tweets = api.search(politician, per_page = 20) #Collect tweets that contain 'McDonalds'\n",
        "  for tweet in public_tweets:\n",
        "    analysis = TextBlob(tweet.text)\n",
        "    #Break each tweet up into its constituent words\n",
        "\n",
        "    polarity, subjectivity = analysis.sentiment\n",
        "    #store its subjectivity and positivity\n",
        "\n",
        "    df['Politician'].append(politician)\n",
        "    df['Polarity'].append(polarity)\n",
        "    df['Subjectivity'].append(subjectivity)\n",
        "df = pd.DataFrame(df)\n",
        "df.head(30)"
      ],
      "execution_count": 0,
      "outputs": [
        {
          "output_type": "execute_result",
          "data": {
            "text/html": [
              "<div>\n",
              "<style scoped>\n",
              "    .dataframe tbody tr th:only-of-type {\n",
              "        vertical-align: middle;\n",
              "    }\n",
              "\n",
              "    .dataframe tbody tr th {\n",
              "        vertical-align: top;\n",
              "    }\n",
              "\n",
              "    .dataframe thead th {\n",
              "        text-align: right;\n",
              "    }\n",
              "</style>\n",
              "<table border=\"1\" class=\"dataframe\">\n",
              "  <thead>\n",
              "    <tr style=\"text-align: right;\">\n",
              "      <th></th>\n",
              "      <th>Politician</th>\n",
              "      <th>Polarity</th>\n",
              "      <th>Subjectivity</th>\n",
              "    </tr>\n",
              "  </thead>\n",
              "  <tbody>\n",
              "    <tr>\n",
              "      <th>0</th>\n",
              "      <td>Obama</td>\n",
              "      <td>0.000000</td>\n",
              "      <td>0.100000</td>\n",
              "    </tr>\n",
              "    <tr>\n",
              "      <th>1</th>\n",
              "      <td>Obama</td>\n",
              "      <td>0.000000</td>\n",
              "      <td>0.300000</td>\n",
              "    </tr>\n",
              "    <tr>\n",
              "      <th>2</th>\n",
              "      <td>Obama</td>\n",
              "      <td>0.500000</td>\n",
              "      <td>0.625000</td>\n",
              "    </tr>\n",
              "    <tr>\n",
              "      <th>3</th>\n",
              "      <td>Obama</td>\n",
              "      <td>-0.800000</td>\n",
              "      <td>1.000000</td>\n",
              "    </tr>\n",
              "    <tr>\n",
              "      <th>4</th>\n",
              "      <td>Obama</td>\n",
              "      <td>0.107143</td>\n",
              "      <td>0.300000</td>\n",
              "    </tr>\n",
              "    <tr>\n",
              "      <th>5</th>\n",
              "      <td>Obama</td>\n",
              "      <td>-0.800000</td>\n",
              "      <td>1.000000</td>\n",
              "    </tr>\n",
              "    <tr>\n",
              "      <th>6</th>\n",
              "      <td>Obama</td>\n",
              "      <td>-0.362500</td>\n",
              "      <td>0.712500</td>\n",
              "    </tr>\n",
              "    <tr>\n",
              "      <th>7</th>\n",
              "      <td>Obama</td>\n",
              "      <td>0.000000</td>\n",
              "      <td>0.000000</td>\n",
              "    </tr>\n",
              "    <tr>\n",
              "      <th>8</th>\n",
              "      <td>Obama</td>\n",
              "      <td>-0.033333</td>\n",
              "      <td>0.033333</td>\n",
              "    </tr>\n",
              "    <tr>\n",
              "      <th>9</th>\n",
              "      <td>Obama</td>\n",
              "      <td>0.000000</td>\n",
              "      <td>0.000000</td>\n",
              "    </tr>\n",
              "    <tr>\n",
              "      <th>10</th>\n",
              "      <td>Trump</td>\n",
              "      <td>0.068182</td>\n",
              "      <td>0.602273</td>\n",
              "    </tr>\n",
              "    <tr>\n",
              "      <th>11</th>\n",
              "      <td>Trump</td>\n",
              "      <td>0.000000</td>\n",
              "      <td>0.000000</td>\n",
              "    </tr>\n",
              "    <tr>\n",
              "      <th>12</th>\n",
              "      <td>Trump</td>\n",
              "      <td>0.000000</td>\n",
              "      <td>0.025000</td>\n",
              "    </tr>\n",
              "    <tr>\n",
              "      <th>13</th>\n",
              "      <td>Trump</td>\n",
              "      <td>0.084091</td>\n",
              "      <td>0.538636</td>\n",
              "    </tr>\n",
              "    <tr>\n",
              "      <th>14</th>\n",
              "      <td>Trump</td>\n",
              "      <td>0.000000</td>\n",
              "      <td>0.000000</td>\n",
              "    </tr>\n",
              "    <tr>\n",
              "      <th>15</th>\n",
              "      <td>Trump</td>\n",
              "      <td>0.125000</td>\n",
              "      <td>0.250000</td>\n",
              "    </tr>\n",
              "    <tr>\n",
              "      <th>16</th>\n",
              "      <td>Trump</td>\n",
              "      <td>-0.300000</td>\n",
              "      <td>0.500000</td>\n",
              "    </tr>\n",
              "    <tr>\n",
              "      <th>17</th>\n",
              "      <td>Trump</td>\n",
              "      <td>0.095238</td>\n",
              "      <td>0.178571</td>\n",
              "    </tr>\n",
              "    <tr>\n",
              "      <th>18</th>\n",
              "      <td>Trump</td>\n",
              "      <td>-0.666667</td>\n",
              "      <td>1.000000</td>\n",
              "    </tr>\n",
              "    <tr>\n",
              "      <th>19</th>\n",
              "      <td>Trump</td>\n",
              "      <td>0.000000</td>\n",
              "      <td>0.000000</td>\n",
              "    </tr>\n",
              "    <tr>\n",
              "      <th>20</th>\n",
              "      <td>Trump</td>\n",
              "      <td>-0.050000</td>\n",
              "      <td>0.583333</td>\n",
              "    </tr>\n",
              "    <tr>\n",
              "      <th>21</th>\n",
              "      <td>Trump</td>\n",
              "      <td>0.412500</td>\n",
              "      <td>0.350000</td>\n",
              "    </tr>\n",
              "    <tr>\n",
              "      <th>22</th>\n",
              "      <td>Trump</td>\n",
              "      <td>0.000000</td>\n",
              "      <td>0.225000</td>\n",
              "    </tr>\n",
              "    <tr>\n",
              "      <th>23</th>\n",
              "      <td>Trump</td>\n",
              "      <td>0.000000</td>\n",
              "      <td>0.366667</td>\n",
              "    </tr>\n",
              "    <tr>\n",
              "      <th>24</th>\n",
              "      <td>Trump</td>\n",
              "      <td>0.168182</td>\n",
              "      <td>0.327273</td>\n",
              "    </tr>\n",
              "    <tr>\n",
              "      <th>25</th>\n",
              "      <td>Clinton</td>\n",
              "      <td>0.250000</td>\n",
              "      <td>1.000000</td>\n",
              "    </tr>\n",
              "    <tr>\n",
              "      <th>26</th>\n",
              "      <td>Clinton</td>\n",
              "      <td>0.000000</td>\n",
              "      <td>0.000000</td>\n",
              "    </tr>\n",
              "    <tr>\n",
              "      <th>27</th>\n",
              "      <td>Clinton</td>\n",
              "      <td>0.000000</td>\n",
              "      <td>0.000000</td>\n",
              "    </tr>\n",
              "    <tr>\n",
              "      <th>28</th>\n",
              "      <td>Clinton</td>\n",
              "      <td>0.000000</td>\n",
              "      <td>0.000000</td>\n",
              "    </tr>\n",
              "    <tr>\n",
              "      <th>29</th>\n",
              "      <td>Clinton</td>\n",
              "      <td>-0.125000</td>\n",
              "      <td>0.500000</td>\n",
              "    </tr>\n",
              "  </tbody>\n",
              "</table>\n",
              "</div>"
            ],
            "text/plain": [
              "   Politician  Polarity  Subjectivity\n",
              "0       Obama  0.000000      0.100000\n",
              "1       Obama  0.000000      0.300000\n",
              "2       Obama  0.500000      0.625000\n",
              "3       Obama -0.800000      1.000000\n",
              "4       Obama  0.107143      0.300000\n",
              "5       Obama -0.800000      1.000000\n",
              "6       Obama -0.362500      0.712500\n",
              "7       Obama  0.000000      0.000000\n",
              "8       Obama -0.033333      0.033333\n",
              "9       Obama  0.000000      0.000000\n",
              "10      Trump  0.068182      0.602273\n",
              "11      Trump  0.000000      0.000000\n",
              "12      Trump  0.000000      0.025000\n",
              "13      Trump  0.084091      0.538636\n",
              "14      Trump  0.000000      0.000000\n",
              "15      Trump  0.125000      0.250000\n",
              "16      Trump -0.300000      0.500000\n",
              "17      Trump  0.095238      0.178571\n",
              "18      Trump -0.666667      1.000000\n",
              "19      Trump  0.000000      0.000000\n",
              "20      Trump -0.050000      0.583333\n",
              "21      Trump  0.412500      0.350000\n",
              "22      Trump  0.000000      0.225000\n",
              "23      Trump  0.000000      0.366667\n",
              "24      Trump  0.168182      0.327273\n",
              "25    Clinton  0.250000      1.000000\n",
              "26    Clinton  0.000000      0.000000\n",
              "27    Clinton  0.000000      0.000000\n",
              "28    Clinton  0.000000      0.000000\n",
              "29    Clinton -0.125000      0.500000"
            ]
          },
          "metadata": {
            "tags": []
          },
          "execution_count": 163
        }
      ]
    },
    {
      "cell_type": "markdown",
      "metadata": {
        "id": "d1E8N_o7TZss",
        "colab_type": "text"
      },
      "source": [
        "Now we have a dataset of what people think about their leaders, we can start to do some analysis. Not everything needs to be complicated Machine Learning algorithms and predictions. Sometimes the best thing to do is just to sort, group, and rank your observations. Remember that data should be used to explain real world phenomena. Too many data scientists run the risk of getting too into the numbers and forgetting what they intially set out to do.\n",
        "\n",
        "So what type of things do you guys think we can learn from this information?\n",
        "\n",
        "The first I can think of is to group the observations by their politician. You can chose what to group it by, so I think it'd be best to go by mean. This will tell us the average sentiment towards a politician, and how factual people tend to be when they discuss them.\n",
        "\n",
        "This tells us that Chairman Mao - brutal dictator and mass murderer - is actually seen in a more positive light than Australia's last PM and his opposition leader."
      ]
    },
    {
      "cell_type": "code",
      "metadata": {
        "id": "RDLjaeq6SGSB",
        "colab_type": "code",
        "outputId": "6900f14f-c140-4d16-f0b8-52448f8275ab",
        "colab": {
          "base_uri": "https://localhost:8080/",
          "height": 324
        }
      },
      "source": [
        "df_grp = df.groupby('Politician').mean()\n",
        "df_grp.sort_values('Polarity')"
      ],
      "execution_count": 0,
      "outputs": [
        {
          "output_type": "execute_result",
          "data": {
            "text/html": [
              "<div>\n",
              "<style scoped>\n",
              "    .dataframe tbody tr th:only-of-type {\n",
              "        vertical-align: middle;\n",
              "    }\n",
              "\n",
              "    .dataframe tbody tr th {\n",
              "        vertical-align: top;\n",
              "    }\n",
              "\n",
              "    .dataframe thead th {\n",
              "        text-align: right;\n",
              "    }\n",
              "</style>\n",
              "<table border=\"1\" class=\"dataframe\">\n",
              "  <thead>\n",
              "    <tr style=\"text-align: right;\">\n",
              "      <th></th>\n",
              "      <th>Polarity</th>\n",
              "      <th>Subjectivity</th>\n",
              "    </tr>\n",
              "    <tr>\n",
              "      <th>Politician</th>\n",
              "      <th></th>\n",
              "      <th></th>\n",
              "    </tr>\n",
              "  </thead>\n",
              "  <tbody>\n",
              "    <tr>\n",
              "      <th>Obama</th>\n",
              "      <td>-0.064444</td>\n",
              "      <td>0.514444</td>\n",
              "    </tr>\n",
              "    <tr>\n",
              "      <th>Putin</th>\n",
              "      <td>-0.054487</td>\n",
              "      <td>0.103846</td>\n",
              "    </tr>\n",
              "    <tr>\n",
              "      <th>Shorten</th>\n",
              "      <td>-0.008135</td>\n",
              "      <td>0.171230</td>\n",
              "    </tr>\n",
              "    <tr>\n",
              "      <th>Turnbull</th>\n",
              "      <td>0.015281</td>\n",
              "      <td>0.410382</td>\n",
              "    </tr>\n",
              "    <tr>\n",
              "      <th>Chairman Mao</th>\n",
              "      <td>0.045050</td>\n",
              "      <td>0.402557</td>\n",
              "    </tr>\n",
              "    <tr>\n",
              "      <th>scomo</th>\n",
              "      <td>0.055357</td>\n",
              "      <td>0.255556</td>\n",
              "    </tr>\n",
              "    <tr>\n",
              "      <th>Clinton</th>\n",
              "      <td>0.065278</td>\n",
              "      <td>0.222222</td>\n",
              "    </tr>\n",
              "    <tr>\n",
              "      <th>Trump</th>\n",
              "      <td>0.100272</td>\n",
              "      <td>0.416380</td>\n",
              "    </tr>\n",
              "  </tbody>\n",
              "</table>\n",
              "</div>"
            ],
            "text/plain": [
              "              Polarity  Subjectivity\n",
              "Politician                          \n",
              "Obama        -0.064444      0.514444\n",
              "Putin        -0.054487      0.103846\n",
              "Shorten      -0.008135      0.171230\n",
              "Turnbull      0.015281      0.410382\n",
              "Chairman Mao  0.045050      0.402557\n",
              "scomo         0.055357      0.255556\n",
              "Clinton       0.065278      0.222222\n",
              "Trump         0.100272      0.416380"
            ]
          },
          "metadata": {
            "tags": []
          },
          "execution_count": 160
        }
      ]
    },
    {
      "cell_type": "markdown",
      "metadata": {
        "id": "wwbGdGbYWx68",
        "colab_type": "text"
      },
      "source": [
        "But we have an issue with the data - most observations are inconclusive. What happens when we remove the 0 value for polarity? Chairman Mao actually becomes more positive, and Australians STILL don't want a Labor PM."
      ]
    },
    {
      "cell_type": "code",
      "metadata": {
        "id": "Ip4IvbczS85X",
        "colab_type": "code",
        "outputId": "a6539068-e277-4c07-cb49-ee222644dbf3",
        "colab": {
          "base_uri": "https://localhost:8080/",
          "height": 324
        }
      },
      "source": [
        "df_dropped = df[df['Polarity'] != 0]\n",
        "df_grp2 = df_dropped.groupby('Politician').mean()\n",
        "df_grp2.sort_values('Polarity')"
      ],
      "execution_count": 0,
      "outputs": [
        {
          "output_type": "execute_result",
          "data": {
            "text/html": [
              "<div>\n",
              "<style scoped>\n",
              "    .dataframe tbody tr th:only-of-type {\n",
              "        vertical-align: middle;\n",
              "    }\n",
              "\n",
              "    .dataframe tbody tr th {\n",
              "        vertical-align: top;\n",
              "    }\n",
              "\n",
              "    .dataframe thead th {\n",
              "        text-align: right;\n",
              "    }\n",
              "</style>\n",
              "<table border=\"1\" class=\"dataframe\">\n",
              "  <thead>\n",
              "    <tr style=\"text-align: right;\">\n",
              "      <th></th>\n",
              "      <th>Polarity</th>\n",
              "      <th>Subjectivity</th>\n",
              "    </tr>\n",
              "    <tr>\n",
              "      <th>Politician</th>\n",
              "      <th></th>\n",
              "      <th></th>\n",
              "    </tr>\n",
              "  </thead>\n",
              "  <tbody>\n",
              "    <tr>\n",
              "      <th>Putin</th>\n",
              "      <td>-0.236111</td>\n",
              "      <td>0.450000</td>\n",
              "    </tr>\n",
              "    <tr>\n",
              "      <th>Obama</th>\n",
              "      <td>-0.107407</td>\n",
              "      <td>0.618519</td>\n",
              "    </tr>\n",
              "    <tr>\n",
              "      <th>Shorten</th>\n",
              "      <td>-0.016270</td>\n",
              "      <td>0.342460</td>\n",
              "    </tr>\n",
              "    <tr>\n",
              "      <th>Turnbull</th>\n",
              "      <td>0.020838</td>\n",
              "      <td>0.559612</td>\n",
              "    </tr>\n",
              "    <tr>\n",
              "      <th>Chairman Mao</th>\n",
              "      <td>0.067575</td>\n",
              "      <td>0.503835</td>\n",
              "    </tr>\n",
              "    <tr>\n",
              "      <th>scomo</th>\n",
              "      <td>0.110714</td>\n",
              "      <td>0.439683</td>\n",
              "    </tr>\n",
              "    <tr>\n",
              "      <th>Trump</th>\n",
              "      <td>0.186219</td>\n",
              "      <td>0.487563</td>\n",
              "    </tr>\n",
              "    <tr>\n",
              "      <th>Clinton</th>\n",
              "      <td>0.195833</td>\n",
              "      <td>0.450000</td>\n",
              "    </tr>\n",
              "  </tbody>\n",
              "</table>\n",
              "</div>"
            ],
            "text/plain": [
              "              Polarity  Subjectivity\n",
              "Politician                          \n",
              "Putin        -0.236111      0.450000\n",
              "Obama        -0.107407      0.618519\n",
              "Shorten      -0.016270      0.342460\n",
              "Turnbull      0.020838      0.559612\n",
              "Chairman Mao  0.067575      0.503835\n",
              "scomo         0.110714      0.439683\n",
              "Trump         0.186219      0.487563\n",
              "Clinton       0.195833      0.450000"
            ]
          },
          "metadata": {
            "tags": []
          },
          "execution_count": 162
        }
      ]
    },
    {
      "cell_type": "markdown",
      "metadata": {
        "id": "QbsljsM5XJvN",
        "colab_type": "text"
      },
      "source": [
        "What can we do with this subjectivity metric? Can we maybe scale polarity based on how factual people tend to be when discussing them?"
      ]
    },
    {
      "cell_type": "code",
      "metadata": {
        "id": "JG9H9eoiSM2X",
        "colab_type": "code",
        "outputId": "1078f142-fb5a-499f-80af-d7f819e7a176",
        "colab": {
          "base_uri": "https://localhost:8080/",
          "height": 428
        }
      },
      "source": [
        "df_dropped2 = df[df['Subjectivity'] < 1]\n",
        "df_dropped2['Scaled_Polarity'] = df['Polarity']/(1- df['Subjectivity']) #Higher subjectivity = Higher Scaled Polarity\n",
        "\n",
        "df_grp3 = df_dropped2.groupby('Politician').mean()\n",
        "df_grp3.sort_values('Scaled_Polarity')"
      ],
      "execution_count": 0,
      "outputs": [
        {
          "output_type": "stream",
          "text": [
            "/usr/local/lib/python3.6/dist-packages/ipykernel_launcher.py:2: SettingWithCopyWarning: \n",
            "A value is trying to be set on a copy of a slice from a DataFrame.\n",
            "Try using .loc[row_indexer,col_indexer] = value instead\n",
            "\n",
            "See the caveats in the documentation: http://pandas.pydata.org/pandas-docs/stable/indexing.html#indexing-view-versus-copy\n",
            "  \n"
          ],
          "name": "stderr"
        },
        {
          "output_type": "execute_result",
          "data": {
            "text/html": [
              "<div>\n",
              "<style scoped>\n",
              "    .dataframe tbody tr th:only-of-type {\n",
              "        vertical-align: middle;\n",
              "    }\n",
              "\n",
              "    .dataframe tbody tr th {\n",
              "        vertical-align: top;\n",
              "    }\n",
              "\n",
              "    .dataframe thead th {\n",
              "        text-align: right;\n",
              "    }\n",
              "</style>\n",
              "<table border=\"1\" class=\"dataframe\">\n",
              "  <thead>\n",
              "    <tr style=\"text-align: right;\">\n",
              "      <th></th>\n",
              "      <th>Polarity</th>\n",
              "      <th>Subjectivity</th>\n",
              "      <th>Scaled_Polarity</th>\n",
              "    </tr>\n",
              "    <tr>\n",
              "      <th>Politician</th>\n",
              "      <th></th>\n",
              "      <th></th>\n",
              "      <th></th>\n",
              "    </tr>\n",
              "  </thead>\n",
              "  <tbody>\n",
              "    <tr>\n",
              "      <th>Shorten</th>\n",
              "      <td>-0.022421</td>\n",
              "      <td>0.203373</td>\n",
              "      <td>-0.045224</td>\n",
              "    </tr>\n",
              "    <tr>\n",
              "      <th>Putin</th>\n",
              "      <td>0.003704</td>\n",
              "      <td>0.090741</td>\n",
              "      <td>0.007960</td>\n",
              "    </tr>\n",
              "    <tr>\n",
              "      <th>Obama</th>\n",
              "      <td>0.026414</td>\n",
              "      <td>0.258854</td>\n",
              "      <td>0.023880</td>\n",
              "    </tr>\n",
              "    <tr>\n",
              "      <th>Clinton</th>\n",
              "      <td>0.023611</td>\n",
              "      <td>0.136806</td>\n",
              "      <td>0.048611</td>\n",
              "    </tr>\n",
              "    <tr>\n",
              "      <th>Trump</th>\n",
              "      <td>0.043085</td>\n",
              "      <td>0.281911</td>\n",
              "      <td>0.057208</td>\n",
              "    </tr>\n",
              "    <tr>\n",
              "      <th>scomo</th>\n",
              "      <td>0.104190</td>\n",
              "      <td>0.330739</td>\n",
              "      <td>0.240743</td>\n",
              "    </tr>\n",
              "    <tr>\n",
              "      <th>Turnbull</th>\n",
              "      <td>0.031640</td>\n",
              "      <td>0.365955</td>\n",
              "      <td>0.572673</td>\n",
              "    </tr>\n",
              "    <tr>\n",
              "      <th>Chairman Mao</th>\n",
              "      <td>0.048268</td>\n",
              "      <td>0.359882</td>\n",
              "      <td>0.808264</td>\n",
              "    </tr>\n",
              "  </tbody>\n",
              "</table>\n",
              "</div>"
            ],
            "text/plain": [
              "              Polarity  Subjectivity  Scaled_Polarity\n",
              "Politician                                           \n",
              "Shorten      -0.022421      0.203373        -0.045224\n",
              "Putin         0.003704      0.090741         0.007960\n",
              "Obama         0.026414      0.258854         0.023880\n",
              "Clinton       0.023611      0.136806         0.048611\n",
              "Trump         0.043085      0.281911         0.057208\n",
              "scomo         0.104190      0.330739         0.240743\n",
              "Turnbull      0.031640      0.365955         0.572673\n",
              "Chairman Mao  0.048268      0.359882         0.808264"
            ]
          },
          "metadata": {
            "tags": []
          },
          "execution_count": 176
        }
      ]
    }
  ]
}